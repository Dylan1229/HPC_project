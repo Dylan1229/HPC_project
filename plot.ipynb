{
 "cells": [
  {
   "cell_type": "code",
   "execution_count": null,
   "metadata": {},
   "outputs": [],
   "source": [
    "import matplotlib.pyplot as plt\n",
    "import numpy as np\n",
    "import matplotlib.ticker as ticker\n",
    "from matplotlib import gridspec \n",
    "\n",
    "tensor = [\n",
    "    [11.321830, 7.859995, 3.893439, 2.727603, 1.532226, 1.297754, 0.663702, 0.380856],\n",
    "    [6.569069, 4.124247, 2.476774, 1.351492, 0.949954, 0.552657, 0.230175, 0.180965],\n",
    "    [6.612019, 3.390086, 2.150382, 1.523240,  0.682975, 0.588144, 0.152117, 0.049096],\n",
    "    [4.877126, 2.823249, 1.758951, 0.874611, 0.441410, 0.239904, 0.154546, 0.047007],\n",
    "]\n",
    "\n",
    "\n",
    "labels = [\"Execution time of different methods with varying process number\"]\n",
    "columns = ['1', '2', '4', '8', '16', \"32\", \"64\", \"128\"]\n",
    "xlabels = ['1', '2', '4', '8', '16', \"32\", \"64\", \"128\"]\n",
    "rows = ['Baseline', 'Memory-optimized', 'Locally-computed', 'Cache-optimized']\n",
    "index = np.arange(len(columns))\n",
    "\n",
    "\n",
    "fig, ax = plt.subplots(nrows=1, ncols=1, figsize=(10, 4))\n",
    "\n",
    "# for i, (data,l) in enumerate(zip(tensor_size, labels)):\n",
    "    \n",
    "ax.set_xlabel(\"Process number\", color = \"k\", fontsize = 10)\n",
    "    \n",
    "ax.plot(index, tensor[0], color=\"royalblue\", marker=\"o\", linestyle=\"--\")\n",
    "ax.plot(index, tensor[1], color=\"k\", marker=\"o\", linestyle=\"--\")\n",
    "ax.plot(index, tensor[2], color=\"red\", marker=\"o\", linestyle=\"--\")\n",
    "ax.plot(index, tensor[3], color=\"grey\", marker=\"o\", linestyle=\"--\")\n",
    "    \n",
    "ax.grid(which='major', color=\"lightgray\", linestyle='--')\n",
    "ax.set_axisbelow(True)\n",
    "ax.set_xticks(index)\n",
    "ax.set_xticklabels(xlabels)   \n",
    "ax.set_ylabel(\"Execution time (s)\", color = \"k\", fontsize = 10)\n",
    "\n",
    "ax.set_title(labels[0])\n",
    "fig.legend(rows, loc='lower center', bbox_to_anchor=(0.5, -.08), ncol=4, fontsize=14, frameon=False)\n",
    "fig.tight_layout()\n",
    "fig.savefig('./figures/Scaling_perf.pdf', dpi=300, bbox_inches='tight')\n"
   ]
  }
 ],
 "metadata": {
  "language_info": {
   "name": "python"
  },
  "orig_nbformat": 4
 },
 "nbformat": 4,
 "nbformat_minor": 2
}
